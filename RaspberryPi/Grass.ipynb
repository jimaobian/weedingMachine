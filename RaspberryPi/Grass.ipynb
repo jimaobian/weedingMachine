{
 "cells": [
  {
   "cell_type": "code",
   "execution_count": null,
   "metadata": {},
   "outputs": [],
   "source": []
  },
  {
   "cell_type": "code",
   "execution_count": null,
   "metadata": {},
   "outputs": [],
   "source": []
  },
  {
   "cell_type": "code",
   "execution_count": 50,
   "metadata": {},
   "outputs": [
    {
     "name": "stdout",
     "output_type": "stream",
     "text": [
      "n/a\n",
      "n/a\n",
      "n/a\n",
      "n/a\n",
      "n/a\n",
      "n/a\n",
      "USB VID:PID=2341:0043 LOCATION=20-5.1.2\n",
      "Romeo connected!\n",
      "USB VID:PID=2341:0042 SER=75430333237351E012A2 LOCATION=20-5.1.1.3\n",
      "Delta connected!\n"
     ]
    }
   ],
   "source": [
    "import serial\n",
    "import serial.tools.list_ports\n",
    "import time\n",
    "\n",
    "\n",
    "\n",
    "def setPosition(x,y,z):\n",
    "    serialDelta.write(bytes('G1 X' + str(x) + ' Y' + str(y) + ' Z' + str(z) + ' F6000\\n', 'utf8'))\n",
    "\n",
    "serialRomeo = ''\n",
    "serialDelta = ''\n",
    "\n",
    "ports = list(serial.tools.list_ports.comports())\n",
    "for p in ports:\n",
    "    print(p[2])\n",
    "    if 'USB VID:PID=2341:0043' in p[2]:\n",
    "        try:\n",
    "            serialRomeo = serialBarcode = serial.Serial(p[0], 115200, timeout=0.5)\n",
    "            print(\"Romeo connected!\")\n",
    "        except:\n",
    "            print(\"Romeo not connected!\")\n",
    "    if 'USB VID:PID=2341:0042' in p[2]:\n",
    "        try:\n",
    "            serialDelta = serialBarcode = serial.Serial(p[0], 250000, timeout=0.5)\n",
    "            print(\"Delta connected!\")\n",
    "        except:\n",
    "            print(\"Delta not connected!\")\n",
    "\n",
    "            \n",
    "time.sleep(2)\n",
    "            \n",
    "serialDelta.write(b'G28\\n')\n",
    "\n",
    "\n",
    "# serialRomeo.write(b'<speed>0,0;')\n",
    "\n",
    "setPosition(0,0,150)\n",
    "\n",
    "# time.sleep(1)\n",
    "\n",
    "# serialRomeo.close()\n",
    "# serialDelta.close()"
   ]
  },
  {
   "cell_type": "code",
   "execution_count": 62,
   "metadata": {},
   "outputs": [],
   "source": []
  },
  {
   "cell_type": "code",
   "execution_count": 61,
   "metadata": {},
   "outputs": [
    {
     "data": {
      "text/plain": [
       "False"
      ]
     },
     "execution_count": 61,
     "metadata": {},
     "output_type": "execute_result"
    }
   ],
   "source": []
  },
  {
   "cell_type": "code",
   "execution_count": null,
   "metadata": {},
   "outputs": [],
   "source": [
    "# serialDelta.write(b'G1 Z200 F4000\\n')"
   ]
  },
  {
   "cell_type": "code",
   "execution_count": null,
   "metadata": {},
   "outputs": [],
   "source": []
  },
  {
   "cell_type": "code",
   "execution_count": null,
   "metadata": {},
   "outputs": [],
   "source": []
  },
  {
   "cell_type": "code",
   "execution_count": null,
   "metadata": {},
   "outputs": [
    {
     "name": "stdout",
     "output_type": "stream",
     "text": [
      "server started\n"
     ]
    },
    {
     "name": "stderr",
     "output_type": "stream",
     "text": [
      "127.0.0.1 - - [19/Aug/2018 21:11:40] \"GET / HTTP/1.1\" 200 -\n",
      "127.0.0.1 - - [19/Aug/2018 21:11:40] \"GET /cam.mjpg HTTP/1.1\" 200 -\n"
     ]
    },
    {
     "name": "stdout",
     "output_type": "stream",
     "text": [
      "stop streaming\n"
     ]
    },
    {
     "name": "stderr",
     "output_type": "stream",
     "text": [
      "127.0.0.1 - - [19/Aug/2018 21:11:42] \"GET /cam.mjpg HTTP/1.1\" 200 -\n"
     ]
    }
   ],
   "source": [
    "import cv2\n",
    "from PIL import Image\n",
    "import threading\n",
    "from http.server import BaseHTTPRequestHandler,HTTPServer\n",
    "from socketserver import ThreadingMixIn\n",
    "from io import StringIO,BytesIO\n",
    "import time\n",
    "capture=None\n",
    "\n",
    "from collections import deque\n",
    "import numpy as np\n",
    "import argparse\n",
    "\n",
    "\n",
    "delta = [0,0,150]\n",
    "\n",
    "# define the lower and upper boundaries of the colors in the HSV color space\n",
    "lower = {'red':(166, 84, 141), 'yellow':(23, 59, 119)} #assign new item lower['blue'] = (93, 10, 0)\n",
    "upper = {'red':(186,255,255), 'yellow':(54,255,255)}\n",
    "\n",
    "# define standard colors for circle around the object\n",
    "colors = {'red':(0,0,255), 'yellow':(0, 255, 217)}        \n",
    "\n",
    "class CamHandler(BaseHTTPRequestHandler):\n",
    "    def do_GET(self):\n",
    "        if self.path.endswith('.mjpg'):\n",
    "            self.send_response(200)\n",
    "            self.send_header('Content-type','multipart/x-mixed-replace; boundary=--jpgboundary')\n",
    "            self.end_headers()\n",
    "            while True:\n",
    "                try:\n",
    "                    rc,img = capture.read()\n",
    "                    if not rc:\n",
    "                        continue\n",
    "                    blurred = cv2.GaussianBlur(img, (11, 11), 0)\n",
    "                    hsv = cv2.cvtColor(blurred, cv2.COLOR_BGR2HSV)\n",
    "                    #for each color in dictionary check object in frame\n",
    "                    for key, value in upper.items():\n",
    "                        # construct a mask for the color from dictionary`1, then perform\n",
    "                        # a series of dilations and erosions to remove any small\n",
    "                        # blobs left in the mask\n",
    "                        kernel = np.ones((9,9),np.uint8)\n",
    "                        mask = cv2.inRange(hsv, lower[key], upper[key])\n",
    "                        mask = cv2.morphologyEx(mask, cv2.MORPH_OPEN, kernel)\n",
    "                        mask = cv2.morphologyEx(mask, cv2.MORPH_CLOSE, kernel)\n",
    "\n",
    "                        # find contours in the mask and initialize the current\n",
    "                        # (x, y) center of the ball\n",
    "                        cnts = cv2.findContours(mask.copy(), cv2.RETR_EXTERNAL,\n",
    "                            cv2.CHAIN_APPROX_SIMPLE)[-2]\n",
    "                        center = None\n",
    "\n",
    "                        # only proceed if at least one contour was found\n",
    "                        if len(cnts) > 0:\n",
    "                            # find the largest contour in the mask, then use\n",
    "                            # it to compute the minimum enclosing circle and\n",
    "                            # centroid\n",
    "                            \n",
    "                            for c in cnts:\n",
    "                                ((x, y), radius) = cv2.minEnclosingCircle(c)\n",
    "                                M = cv2.moments(c)\n",
    "                                center = (int(M[\"m10\"] / M[\"m00\"]), int(M[\"m01\"] / M[\"m00\"]))\n",
    "\n",
    "                                # only proceed if the radius meets a minimum size. Correct this value for your obect's size\n",
    "                                if radius > 0.5:\n",
    "    \n",
    "                                    # draw the circle and centroid on the frame,\n",
    "                                    # then update the list of tracked points\n",
    "                                    cv2.rectangle(img, (int(x-radius/2), int(y-radius/2)), (int(x+radius/2), int(y+radius/2)), (93, 10, 0), 2)\n",
    "                                    cv2.putText(img,key + \" grass\", (int(x-radius),int(y-radius)), cv2.FONT_HERSHEY_SIMPLEX, 0.6, (93, 10, 0),2)\n",
    "\n",
    "\n",
    "                            \n",
    "                            c = max(cnts, key=cv2.contourArea)\n",
    "                            ((x, y), radius) = cv2.minEnclosingCircle(c)\n",
    "                            M = cv2.moments(c)\n",
    "                            center = (int(M[\"m10\"] / M[\"m00\"]), int(M[\"m01\"] / M[\"m00\"]))\n",
    "                            \n",
    "\n",
    "                            # only proceed if the radius meets a minimum size. Correct this value for your obect's size\n",
    "                            if radius > 0.5:\n",
    "                                newDeltaX = delta[0] - (y - 300.0)/60.0\n",
    "                                newDeltaY = delta[1] + (x - 400.0)/80.0\n",
    "\n",
    "                            \n",
    "                                if (newDeltaX*newDeltaX + newDeltaY*newDeltaY < 3600):                            \n",
    "                                    delta[0] = newDeltaX\n",
    "                                    delta[1] = newDeltaY\n",
    "                                    setPosition(delta[0],delta[1],delta[2])\n",
    "\n",
    "\n",
    "                                # draw the circle and centroid on the frame,\n",
    "                                # then update the list of tracked points\n",
    "                                cv2.rectangle(img, (int(x-radius/2), int(y-radius/2)), (int(x+radius/2), int(y+radius/2)), (186,255,255), 2)\n",
    "                                cv2.putText(img,key + \" grass\", (int(x-radius),int(y-radius)), cv2.FONT_HERSHEY_SIMPLEX, 0.6, (186,255,255),2)\n",
    "                    imgRGB=cv2.cvtColor(img,cv2.COLOR_BGR2RGB)\n",
    "                    jpg = Image.fromarray(imgRGB)\n",
    "                    tmpFile = BytesIO()\n",
    "                    jpg.save(tmpFile,'JPEG')\n",
    "                    self.wfile.write(\"--jpgboundary\".encode())\n",
    "                    self.send_header('Content-type','image/jpeg')\n",
    "                    self.send_header('Content-length',str(tmpFile.getbuffer().nbytes))\n",
    "                    self.end_headers()\n",
    "                    jpg.save(self.wfile,'JPEG')\n",
    "#                     time.sleep(0.05)\n",
    "                except KeyboardInterrupt:\n",
    "                    print(\"stop streaming\")\n",
    "                    break\n",
    "#                 except:\n",
    "#                     print(\"other error streaming\")\n",
    "#                     pass\n",
    "            return\n",
    "        else:\n",
    "            self.send_response(200)\n",
    "            self.send_header('Content-type','text/html')\n",
    "            self.end_headers()\n",
    "            self.wfile.write('<html><head></head><body>'.encode())\n",
    "            self.wfile.write('<img src=\"http://127.0.0.1:9000/cam.mjpg\"/>'.encode())\n",
    "            self.wfile.write('</body></html>'.encode())\n",
    "            return\n",
    "\n",
    "\n",
    "capture = cv2.VideoCapture(1)\n",
    "time.sleep(1)\n",
    "capture.set(cv2.CAP_PROP_FRAME_WIDTH, 800); \n",
    "capture.set(cv2.CAP_PROP_FRAME_HEIGHT, 600);\n",
    "capture.set(cv2.CAP_PROP_SATURATION,0.2);\n",
    "server = HTTPServer(('localhost', 9000), CamHandler)\n",
    "print( \"server started\")\n",
    "try:\n",
    "    server.serve_forever()\n",
    "except KeyboardInterrupt:\n",
    "    print(\"stop server\")\n",
    "    pass\n",
    "except:\n",
    "    print(\"other error server\")\n",
    "    pass\n",
    "server.server_close()\n",
    "capture.release()\n",
    "\n"
   ]
  },
  {
   "cell_type": "code",
   "execution_count": 25,
   "metadata": {},
   "outputs": [],
   "source": [
    "try:\n",
    "    print(here)\n",
    "except KeyboardInterrupt:\n",
    "    print(\"stop server\")\n",
    "    pass\n",
    "except:\n",
    "    print\n",
    "    pass"
   ]
  },
  {
   "cell_type": "code",
   "execution_count": 18,
   "metadata": {},
   "outputs": [],
   "source": [
    "capture = cv2.VideoCapture(2)\n",
    "time.sleep(1)\n",
    "capture.set(cv2.CAP_PROP_FRAME_WIDTH, 800); \n",
    "capture.set(cv2.CAP_PROP_FRAME_HEIGHT, 600);\n",
    "capture.set(cv2.CAP_PROP_SATURATION,0.2);\n",
    "rc,img = capture.read()\n",
    "img\n",
    "capture.release()"
   ]
  },
  {
   "cell_type": "code",
   "execution_count": 53,
   "metadata": {},
   "outputs": [
    {
     "ename": "NameError",
     "evalue": "name 'c' is not defined",
     "output_type": "error",
     "traceback": [
      "\u001b[0;31m---------------------------------------------------------------------------\u001b[0m",
      "\u001b[0;31mNameError\u001b[0m                                 Traceback (most recent call last)",
      "\u001b[0;32m<ipython-input-53-2b66fd261ee5>\u001b[0m in \u001b[0;36m<module>\u001b[0;34m()\u001b[0m\n\u001b[0;32m----> 1\u001b[0;31m \u001b[0mc\u001b[0m\u001b[0;34m\u001b[0m\u001b[0m\n\u001b[0m",
      "\u001b[0;31mNameError\u001b[0m: name 'c' is not defined"
     ]
    }
   ],
   "source": []
  },
  {
   "cell_type": "code",
   "execution_count": 7,
   "metadata": {},
   "outputs": [],
   "source": []
  },
  {
   "cell_type": "code",
   "execution_count": null,
   "metadata": {},
   "outputs": [],
   "source": []
  }
 ],
 "metadata": {
  "kernelspec": {
   "display_name": "Python 3",
   "language": "python",
   "name": "python3"
  },
  "language_info": {
   "codemirror_mode": {
    "name": "ipython",
    "version": 3
   },
   "file_extension": ".py",
   "mimetype": "text/x-python",
   "name": "python",
   "nbconvert_exporter": "python",
   "pygments_lexer": "ipython3",
   "version": "3.6.5"
  }
 },
 "nbformat": 4,
 "nbformat_minor": 2
}
